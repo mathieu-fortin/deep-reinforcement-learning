{
 "cells": [
  {
   "cell_type": "markdown",
   "metadata": {},
   "source": [
    "# Collaboration and Competition\n",
    "\n",
    "---\n",
    "\n",
    "In this notebook, you will learn how to use the Unity ML-Agents environment for the third project of the [Deep Reinforcement Learning Nanodegree](https://www.udacity.com/course/deep-reinforcement-learning-nanodegree--nd893) program.\n",
    "\n",
    "### 1. Start the Environment\n",
    "\n",
    "We begin by importing the necessary packages.  If the code cell below returns an error, please revisit the project instructions to double-check that you have installed [Unity ML-Agents](https://github.com/Unity-Technologies/ml-agents/blob/master/docs/Installation.md) and [NumPy](http://www.numpy.org/)."
   ]
  },
  {
   "cell_type": "code",
   "execution_count": 1,
   "metadata": {},
   "outputs": [],
   "source": [
    "from unityagents import UnityEnvironment\n",
    "import numpy as np\n",
    "import torch"
   ]
  },
  {
   "cell_type": "markdown",
   "metadata": {},
   "source": [
    "Next, we will start the environment!  **_Before running the code cell below_**, change the `file_name` parameter to match the location of the Unity environment that you downloaded.\n",
    "\n",
    "- **Mac**: `\"path/to/Tennis.app\"`\n",
    "- **Windows** (x86): `\"path/to/Tennis_Windows_x86/Tennis.exe\"`\n",
    "- **Windows** (x86_64): `\"path/to/Tennis_Windows_x86_64/Tennis.exe\"`\n",
    "- **Linux** (x86): `\"path/to/Tennis_Linux/Tennis.x86\"`\n",
    "- **Linux** (x86_64): `\"path/to/Tennis_Linux/Tennis.x86_64\"`\n",
    "- **Linux** (x86, headless): `\"path/to/Tennis_Linux_NoVis/Tennis.x86\"`\n",
    "- **Linux** (x86_64, headless): `\"path/to/Tennis_Linux_NoVis/Tennis.x86_64\"`\n",
    "\n",
    "For instance, if you are using a Mac, then you downloaded `Tennis.app`.  If this file is in the same folder as the notebook, then the line below should appear as follows:\n",
    "```\n",
    "env = UnityEnvironment(file_name=\"Tennis.app\")\n",
    "```"
   ]
  },
  {
   "cell_type": "code",
   "execution_count": 2,
   "metadata": {},
   "outputs": [
    {
     "name": "stderr",
     "output_type": "stream",
     "text": [
      "INFO:unityagents:\n",
      "'Academy' started successfully!\n",
      "Unity Academy name: Academy\n",
      "        Number of Brains: 1\n",
      "        Number of External Brains : 1\n",
      "        Lesson number : 0\n",
      "        Reset Parameters :\n",
      "\t\t\n",
      "Unity brain name: TennisBrain\n",
      "        Number of Visual Observations (per agent): 0\n",
      "        Vector Observation space type: continuous\n",
      "        Vector Observation space size (per agent): 8\n",
      "        Number of stacked Vector Observation: 3\n",
      "        Vector Action space type: continuous\n",
      "        Vector Action space size (per agent): 2\n",
      "        Vector Action descriptions: , \n"
     ]
    }
   ],
   "source": [
    "env = UnityEnvironment(file_name=\"Tennis_Windows_x86_64\\Tennis.exe\")"
   ]
  },
  {
   "cell_type": "markdown",
   "metadata": {},
   "source": [
    "Environments contain **_brains_** which are responsible for deciding the actions of their associated agents. Here we check for the first brain available, and set it as the default brain we will be controlling from Python."
   ]
  },
  {
   "cell_type": "code",
   "execution_count": 3,
   "metadata": {},
   "outputs": [],
   "source": [
    "# get the default brain\n",
    "brain_name = env.brain_names[0]\n",
    "brain = env.brains[brain_name]"
   ]
  },
  {
   "cell_type": "markdown",
   "metadata": {},
   "source": [
    "### 2. Examine the State and Action Spaces\n",
    "\n",
    "In this environment, two agents control rackets to bounce a ball over a net. If an agent hits the ball over the net, it receives a reward of +0.1.  If an agent lets a ball hit the ground or hits the ball out of bounds, it receives a reward of -0.01.  Thus, the goal of each agent is to keep the ball in play.\n",
    "\n",
    "The observation space consists of 8 variables corresponding to the position and velocity of the ball and racket. Two continuous actions are available, corresponding to movement toward (or away from) the net, and jumping. \n",
    "\n",
    "Run the code cell below to print some information about the environment."
   ]
  },
  {
   "cell_type": "code",
   "execution_count": 4,
   "metadata": {},
   "outputs": [
    {
     "name": "stdout",
     "output_type": "stream",
     "text": [
      "Number of agents: 2\n",
      "Size of each action: 2\n",
      "There are 2 agents. Each observes a state with length: 24\n",
      "The state for the first agent looks like: [ 0.          0.          0.          0.          0.          0.\n",
      "  0.          0.          0.          0.          0.          0.\n",
      "  0.          0.          0.          0.         -6.65278625 -1.5\n",
      " -0.          0.          6.83172083  6.         -0.          0.        ]\n"
     ]
    }
   ],
   "source": [
    "# reset the environment\n",
    "env_info = env.reset(train_mode=True)[brain_name]\n",
    "\n",
    "# number of agents \n",
    "num_agents = len(env_info.agents)\n",
    "print('Number of agents:', num_agents)\n",
    "\n",
    "# size of each action\n",
    "action_size = brain.vector_action_space_size\n",
    "print('Size of each action:', action_size)\n",
    "\n",
    "# examine the state space \n",
    "states = env_info.vector_observations\n",
    "state_size = states.shape[1]\n",
    "print('There are {} agents. Each observes a state with length: {}'.format(states.shape[0], state_size))\n",
    "print('The state for the first agent looks like:', states[0])"
   ]
  },
  {
   "cell_type": "markdown",
   "metadata": {},
   "source": [
    "### 3. Take Random Actions in the Environment\n",
    "\n",
    "In the next code cell, you will learn how to use the Python API to control the agents and receive feedback from the environment.\n",
    "\n",
    "Once this cell is executed, you will watch the agents' performance, if they select actions at random with each time step.  A window should pop up that allows you to observe the agents.\n",
    "\n",
    "Of course, as part of the project, you'll have to change the code so that the agents are able to use their experiences to gradually choose better actions when interacting with the environment!"
   ]
  },
  {
   "cell_type": "code",
   "execution_count": 5,
   "metadata": {},
   "outputs": [],
   "source": [
    "from maddpg import Maddpg\n",
    "from collections import deque\n",
    "import torch\n",
    "\n",
    "def train(n_episodes=10000, max_t=1000, print_every=100, noise=1.0, noise_reduction=1.0, seed=42):\n",
    "    # Seed & random noise\n",
    "    np.random.seed(seed)\n",
    "    torch.manual_seed(seed)\n",
    "    \n",
    "    # Instantiate MADDPG agents\n",
    "    maddpg = Maddpg(state_size, action_size, num_agents, seed)\n",
    "\n",
    "    # Scores\n",
    "    scores_deque = deque(maxlen=100)\n",
    "    scores, avg_scores = [], []\n",
    "    \n",
    "    # Training Loop\n",
    "    for i_episode in range(n_episodes+1):\n",
    "        env_info = env.reset(train_mode=True)[brain_name]          # reset the environment  \n",
    "        maddpg.reset()                                             # reset the agents \n",
    "            \n",
    "        states = env_info.vector_observations                      # get the current state for each agent \n",
    "        agents_scores = np.zeros(num_agents)                       # initialize the score (for each agent)\n",
    "\n",
    "        for steps in range(max_t):\n",
    "            actions = maddpg.act(states, noise)                    # retrieve actions to performe for each agents \n",
    "            noise *= noise_reduction                               # Decrease action noise\n",
    "            env_info = env.step({brain_name: [actions]})[brain_name] # send all actions to the environment\n",
    "            next_states = env_info.vector_observations             # get next state for each agent\n",
    "            rewards = env_info.rewards                             # get reward (for each agent)\n",
    "            dones = env_info.local_done                            # see if episode finished\n",
    "            \n",
    "            # Save experience in replay memory, and use random sample from buffer to learn\n",
    "            maddpg.step(states, actions, rewards, next_states, dones, i_episode)\n",
    "            agents_scores += env_info.rewards                      # update the score (for each agent)\n",
    "            states = next_states                                   # roll over states to next time step\n",
    "            if np.any(dones):                                      # exit loop if episode finished\n",
    "                break\n",
    "        \n",
    "        score  = np.max(agents_scores)\n",
    "        scores.append(score)\n",
    "        scores_deque.append(score)\n",
    "        avg_score = np.mean(scores_deque) # Compute average score over last 100 episodes\n",
    "\n",
    "        # Display learning statistics \n",
    "        print('\\rEpisode {}\\tAverage Score: {:.2f}\\tEpisode score (max over agents): {:.2f}'.format(i_episode, avg_score, score), end=\"\")\n",
    "        if i_episode>0 and i_episode % print_every == 0:\n",
    "            print('\\rEpisode {}\\tAverage Score: {:.2f}\\tnoise={:.4f}'.format(i_episode, avg_score, noise))\n",
    "            avg_scores.append(avg_score)\n",
    "            maddpg.save()\n",
    "            \n",
    "        # Early stopping when the environment is deemed solved\n",
    "        if (i_episode > 99) and (avg_score >=0.5):\n",
    "            print('\\rEnvironment solved in {} episodes with an Average Score of {:.2f}'.format(i_episode, avg_score))\n",
    "            maddpg.save()\n",
    "            return scores\n",
    "    return scores"
   ]
  },
  {
   "cell_type": "code",
   "execution_count": 6,
   "metadata": {},
   "outputs": [
    {
     "name": "stdout",
     "output_type": "stream",
     "text": [
      "Episode 100\tAverage Score: 0.00\tnoise=1.0000e (max over agents): 0.00\n",
      "Episode 200\tAverage Score: 0.02\tnoise=1.0000e (max over agents): 0.00\n",
      "Episode 300\tAverage Score: 0.00\tnoise=1.0000e (max over agents): 0.00\n",
      "Episode 400\tAverage Score: 0.01\tnoise=1.0000e (max over agents): 0.00\n",
      "Episode 500\tAverage Score: 0.03\tnoise=1.0000e (max over agents): 0.00\n",
      "Episode 600\tAverage Score: 0.03\tnoise=1.0000e (max over agents): 0.00\n",
      "Episode 700\tAverage Score: 0.02\tnoise=1.0000e (max over agents): 0.10\n",
      "Episode 800\tAverage Score: 0.10\tnoise=1.0000e (max over agents): 0.10\n",
      "Episode 900\tAverage Score: 0.09\tnoise=1.0000e (max over agents): 0.10\n",
      "Episode 1000\tAverage Score: 0.10\tnoise=1.0000e (max over agents): 0.10\n",
      "Episode 1100\tAverage Score: 0.10\tnoise=1.0000e (max over agents): 0.09\n",
      "Episode 1200\tAverage Score: 0.11\tnoise=1.0000e (max over agents): 0.10\n",
      "Episode 1300\tAverage Score: 0.21\tnoise=1.0000e (max over agents): 0.50\n",
      "Episode 1400\tAverage Score: 0.26\tnoise=1.0000e (max over agents): 0.60\n",
      "Episode 1500\tAverage Score: 0.31\tnoise=1.0000e (max over agents): 0.10\n",
      "Episode 1600\tAverage Score: 0.46\tnoise=1.0000e (max over agents): 1.00\n",
      "Episode 1700\tAverage Score: 0.47\tnoise=1.0000e (max over agents): 1.20\n",
      "Environment solved in 1705 episodes with an Average Score of 0.50 0.40\n"
     ]
    }
   ],
   "source": [
    "# Launch training\n",
    "scores = train()"
   ]
  },
  {
   "cell_type": "code",
   "execution_count": 7,
   "metadata": {},
   "outputs": [
    {
     "name": "stderr",
     "output_type": "stream",
     "text": [
      "\n",
      "Bad key \"text.kerning_factor\" on line 4 in\n",
      "C:\\Users\\mathieu\\Miniconda3\\envs\\deeprl\\lib\\site-packages\\matplotlib\\mpl-data\\stylelib\\_classic_test_patch.mplstyle.\n",
      "You probably need to get an updated matplotlibrc file from\n",
      "https://github.com/matplotlib/matplotlib/blob/v3.1.3/matplotlibrc.template\n",
      "or from the matplotlib source distribution\n"
     ]
    },
    {
     "data": {
      "image/png": "[encoded data removed]",
      "text/plain": [
       "<Figure size 432x288 with 1 Axes>"
      ]
     },
     "metadata": {
      "needs_background": "light"
     },
     "output_type": "display_data"
    }
   ],
   "source": [
    "import matplotlib.pyplot as plt\n",
    "\n",
    "fig = plt.figure()\n",
    "ax = fig.add_subplot(111)\n",
    "plt.plot(np.arange(1, len(scores)+1), scores)\n",
    "plt.ylabel('Score')\n",
    "plt.xlabel('Episode #')\n",
    "plt.show()"
   ]
  },
  {
   "cell_type": "code",
   "execution_count": 12,
   "metadata": {},
   "outputs": [
    {
     "name": "stdout",
     "output_type": "stream",
     "text": [
      "Trained score: 0.5000000074505806\n"
     ]
    }
   ],
   "source": [
    "from collections import deque\n",
    "from maddpg import Maddpg\n",
    "import torch\n",
    "%matplotlib inline\n",
    "# load the trained network weights\n",
    "maddpg = Maddpg(state_size, action_size, num_agents, 42)\n",
    "\n",
    "for i, agent in enumerate(maddpg.agents):\n",
    "    actor_local_filename = \"model/actor_local_{}.pth\".format(i)\n",
    "    critic_local_filename = \"model/critic_local_{}.pth\".format(i)\n",
    "    actor_target_filename = \"model/actor_target_{}.pth\".format(i)\n",
    "    critic_target_filename = \"model/critic_target_{}.pth\".format(i)\n",
    "    \n",
    "    agent.actor_local.load_state_dict(torch.load(actor_local_filename))\n",
    "    agent.critic_local.load_state_dict(torch.load(critic_local_filename))\n",
    "    agent.actor_target.load_state_dict(torch.load(actor_target_filename))\n",
    "    agent.critic_target.load_state_dict(torch.load(critic_target_filename))\n",
    "    \n",
    "env_info = env.reset(train_mode=False)[brain_name] # reset the environment\n",
    "state = env_info.vector_observations[0]            # get the current state\n",
    "agents_scores = np.zeros(num_agents)               # initialize the score\n",
    "\n",
    "for i_episode in range(200):\n",
    "    #actions = np.array([maddpg.agents[i].act(states[i]) for i in range(num_agents)])        # select an action    \n",
    "    actions = maddpg.act(states, 1.0)\n",
    "    env_info = env.step({brain_name: [actions]})[brain_name]        # send the action to the environment\n",
    "    next_states = env_info.vector_observations         # get next state (for each agent)\n",
    "    rewards = env_info.rewards                         # get reward (for each agent)\n",
    "    dones = env_info.local_done                        # see if episode finished\n",
    "    agents_scores += rewards                   # update the score (for each agent)\n",
    "    states = next_states                               # roll over states to next time step\n",
    "    if np.any(dones):                                  # exit loop if episode finished\n",
    "        break\n",
    "    \n",
    "print(\"Trained score: {}\".format(np.mean(agents_scores)))"
   ]
  },
  {
   "cell_type": "markdown",
   "metadata": {},
   "source": [
    "When finished, you can close the environment."
   ]
  },
  {
   "cell_type": "code",
   "execution_count": null,
   "metadata": {},
   "outputs": [],
   "source": [
    "env.close()"
   ]
  },
  {
   "cell_type": "markdown",
   "metadata": {},
   "source": [
    "### 4. It's Your Turn!\n",
    "\n",
    "Now it's your turn to train your own agent to solve the environment!  When training the environment, set `train_mode=True`, so that the line for resetting the environment looks like the following:\n",
    "```python\n",
    "env_info = env.reset(train_mode=True)[brain_name]\n",
    "```"
   ]
  }
 ],
 "metadata": {
  "kernelspec": {
   "display_name": "deeprl",
   "language": "python",
   "name": "deeprl"
  },
  "language_info": {
   "codemirror_mode": {
    "name": "ipython",
    "version": 3
   },
   "file_extension": ".py",
   "mimetype": "text/x-python",
   "name": "python",
   "nbconvert_exporter": "python",
   "pygments_lexer": "ipython3",
   "version": "3.6.10"
  }
 },
 "nbformat": 4,
 "nbformat_minor": 2
}
